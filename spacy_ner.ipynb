{
 "cells": [
  {
   "cell_type": "markdown",
   "metadata": {},
   "source": [
    "# SpaCy Named Entity Recognition (NER) Example\n",
    "Simple NER example.\n",
    "\n",
    "## Installation\n",
    "1. Run requirements: `pip install -r requirements.txt`\n",
    "\n",
    "2. Run Jupyter: `jupyter notebook`"
   ]
  },
  {
   "cell_type": "code",
   "execution_count": null,
   "metadata": {},
   "outputs": [],
   "source": [
    "import spacy\n",
    "\n",
    "nlp = spacy.load(\"en_core_web_sm\") "
   ]
  },
  {
   "cell_type": "code",
   "execution_count": 17,
   "metadata": {},
   "outputs": [],
   "source": [
    "text = \"\"\"Ms. Farhana Uddin, an intern with the Department of Homeland Security, gave Steve great news \n",
    "        about the code she developed. She plans to share her developments with others at \n",
    "        the University of Maryland via Twitter.\"\"\""
   ]
  },
  {
   "cell_type": "code",
   "execution_count": 18,
   "metadata": {},
   "outputs": [
    {
     "name": "stdout",
     "output_type": "stream",
     "text": [
      "Entity 'Farhana Uddin' is of type 'PERSON'\n",
      "Entity 'the Department of Homeland Security' is of type 'ORG'\n",
      "Entity 'Steve' is of type 'PERSON'\n",
      "Entity 'the University of Maryland' is of type 'ORG'\n",
      "Entity 'Twitter' is of type 'PRODUCT'\n"
     ]
    }
   ],
   "source": [
    "d = nlp(text)\n",
    "if d.ents:\n",
    "    for entity in d.ents:\n",
    "        print(f\"Entity '{entity}' is of type '{entity.label_}'\")\n"
   ]
  }
 ],
 "metadata": {
  "kernelspec": {
   "display_name": "Python 3.8.7 ('.venv': venv)",
   "language": "python",
   "name": "python3"
  },
  "language_info": {
   "codemirror_mode": {
    "name": "ipython",
    "version": 3
   },
   "file_extension": ".py",
   "mimetype": "text/x-python",
   "name": "python",
   "nbconvert_exporter": "python",
   "pygments_lexer": "ipython3",
   "version": "3.8.7"
  },
  "orig_nbformat": 4,
  "vscode": {
   "interpreter": {
    "hash": "3f1828ea2306c68d8a2f4ed9b938400e7a5a340b4235074cd9da5a3b6f80c529"
   }
  }
 },
 "nbformat": 4,
 "nbformat_minor": 2
}
