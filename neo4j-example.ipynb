{
 "cells": [
  {
   "cell_type": "markdown",
   "metadata": {},
   "source": [
    "# Neo4j Example\n",
    "Simple Neo4j example.\n",
    "\n",
    "## Installation\n",
    "1. Neo4j 5 requires Oracle Java 17 or OpenJDK 17\n",
    "\n",
    "2. Install and download Neo4J Community Edition: https://neo4j.com/download-center/#community\n",
    "\n",
    "3. Download and decompress zip file onto local drive\n",
    "\n",
    "4. cd into neo4j/bin directory\n",
    "\n",
    "5. Run neo4j in (Windows) console: \n",
    "\n",
    "    `neo4j.bat console`\n",
    "\n",
    "6. Open Neo4j web console: http://localhost:7474/\n",
    "\n",
    "# Running and Monitoring Graph\n",
    "Note that as you create nodes and relationships, you can check the Neo4j web console to view the changes as shown here: \n",
    "\n",
    "![Alt](screenshot.png \"Screenshot\")\n",
    "\n",
    "However, we also display the graphs below in Jupyter using neo4jupyter."
   ]
  },
  {
   "cell_type": "code",
   "execution_count": null,
   "metadata": {},
   "outputs": [],
   "source": [
    "from py2neo import Graph\n",
    "\n",
    "graph = Graph()"
   ]
  },
  {
   "cell_type": "code",
   "execution_count": null,
   "metadata": {},
   "outputs": [],
   "source": [
    "# Delete existing graph\n",
    "graph.delete_all()"
   ]
  },
  {
   "cell_type": "code",
   "execution_count": null,
   "metadata": {},
   "outputs": [],
   "source": [
    "from py2neo import Node\n",
    "\n",
    "steve = Node(\"Advisor\", name=\"Steve\", role=\"Detailee\", location=\"DHS\")\n",
    "farrokh = Node(\"Advisor\", name=\"Farrokh\", role=\"IPA\", location=\"JPL\")\n",
    "sean = Node(\"Advisor\", name=\"Sean\", role=\"IPA\", location=\"BYU\")\n",
    "ryan = Node(\"Advisor\", name=\"Ryan\", role=\"Detailee\", location=\"HSI\")\n",
    "ed = Node(\"Advisor\", name=\"Ed\", role=\"Detailee\", location=\"CBP\")\n",
    "farhana = Node(\"Intern\", name=\"Farhana\", role=\"Student\", location=\"University of Maryland\")\n",
    "\n",
    "dark_math = Node(\"Publication\", name=\"Dark Math\", publisher=\"MIT\")\n",
    "patterns_pi = Node(\"Publication\", name=\"Patterns in Pi\", publisher=\"SIAM\")\n",
    "\n",
    "graph.create(steve | farrokh | sean | ryan | farhana | dark_math | patterns_pi)"
   ]
  },
  {
   "cell_type": "code",
   "execution_count": null,
   "metadata": {},
   "outputs": [],
   "source": [
    "from py2neo import Relationship\n",
    "\n",
    "graph.create(Relationship(steve, \"WORKS_FOR\", farrokh))\n",
    "graph.create(Relationship(ryan, \"WORKS_FOR\", sean))\n",
    "graph.create(Relationship(steve, \"AMAZED_BY\", farhana))\n",
    "graph.create(Relationship(farrokh, \"INTRIGUED_BY\", farhana))\n",
    "graph.create(Relationship(sean, \"WONDER-STRUCK_BY\", farhana))\n",
    "graph.create(Relationship(ed, \"FASCINATED_BY\", farhana))\n",
    "graph.create(Relationship(ryan, \"IMPRESSED_BY\", farhana))\n",
    "graph.create(Relationship(farhana, \"AUTHORED\", dark_math))\n",
    "graph.create(Relationship(farhana, \"AUTHORED\", patterns_pi))"
   ]
  },
  {
   "cell_type": "code",
   "execution_count": 8,
   "metadata": {},
   "outputs": [
    {
     "ename": "SyntaxError",
     "evalue": "invalid syntax (239045100.py, line 4)",
     "output_type": "error",
     "traceback": [
      "\u001b[1;36m  Cell \u001b[1;32mIn[8], line 4\u001b[1;36m\u001b[0m\n\u001b[1;33m    options = {\"Advisor\": \"name\"Intern\": \"name\", \"Publication\": \"name\"}\u001b[0m\n\u001b[1;37m                                ^\u001b[0m\n\u001b[1;31mSyntaxError\u001b[0m\u001b[1;31m:\u001b[0m invalid syntax\n"
     ]
    }
   ],
   "source": [
    "import neo4jupyter\n",
    "neo4jupyter.init_notebook_mode()\n",
    "\n",
    "options = {\"Advisor\": \"name\", \"Intern\": \"name\", \"Publication\": \"name\"}\n",
    "\n",
    "# Show graph in Jupyter. You can also view the graph in \n",
    "# the Neo4j web console.\n",
    "neo4jupyter.draw(graph, options)"
   ]
  },
  {
   "cell_type": "code",
   "execution_count": null,
   "metadata": {},
   "outputs": [],
   "source": [
    "query1 = \"\"\"\n",
    "    MATCH (person:Intern)-[:AUTHORED]->(publication:Publication)\n",
    "    RETURN person.name AS name, publication.name AS pub\n",
    "\"\"\"\n",
    "\n",
    "data = graph.run(query1)\n",
    "\n",
    "for d in data:\n",
    "    print(d)"
   ]
  },
  {
   "cell_type": "code",
   "execution_count": null,
   "metadata": {},
   "outputs": [],
   "source": [
    "query2 = \"\"\"\n",
    "    MATCH (person1:Advisor)-[:AMAZED_BY]->(person2:Intern)\n",
    "    RETURN person1.name AS name1, person2.name AS name2\n",
    "\"\"\"\n",
    "\n",
    "data = graph.run(query2)\n",
    "\n",
    "for d in data:\n",
    "    print(d)"
   ]
  }
 ],
 "metadata": {
  "kernelspec": {
   "display_name": "Python 3 (ipykernel)",
   "language": "python",
   "name": "python3"
  },
  "language_info": {
   "codemirror_mode": {
    "name": "ipython",
    "version": 3
   },
   "file_extension": ".py",
   "mimetype": "text/x-python",
   "name": "python",
   "nbconvert_exporter": "python",
   "pygments_lexer": "ipython3",
   "version": "3.8.7"
  },
  "vscode": {
   "interpreter": {
    "hash": "3f1828ea2306c68d8a2f4ed9b938400e7a5a340b4235074cd9da5a3b6f80c529"
   }
  }
 },
 "nbformat": 4,
 "nbformat_minor": 2
}
