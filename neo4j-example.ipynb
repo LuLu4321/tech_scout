{
 "cells": [
  {
   "cell_type": "markdown",
   "metadata": {},
   "source": [
    "# Neo4j Example\n",
    "Simple example of Neo4j.\n",
    "\n",
    "## Installation\n",
    "1. Neo4j 5 requires Oracle Java 17 or OpenJDK 17\n",
    "\n",
    "2. Install and download Neo4J Community Edition: https://neo4j.com/download-center/#community\n",
    "\n",
    "3. Download and decompress zip file onto local drive\n",
    "\n",
    "4. cd into neo4j/bin directory\n",
    "\n",
    "5. Run neo4j in (Windows) console: \n",
    "\n",
    "    `neo4j.bat console`\n",
    "\n",
    "6. Open Neo4j web console: http://localhost:7474/\n",
    "\n",
    "# Running and Monitoring Graph\n",
    "Note that as you create nodes and relationships, you can check the Neo4j web console to view the changes. However, we also display the graphs below in Jupyter using neo4jupyter."
   ]
  },
  {
   "cell_type": "code",
   "execution_count": 1,
   "metadata": {},
   "outputs": [],
   "source": [
    "from py2neo import Graph\n",
    "\n",
    "graph = Graph()"
   ]
  },
  {
   "cell_type": "code",
   "execution_count": 2,
   "metadata": {},
   "outputs": [],
   "source": [
    "# Delete existing graph\n",
    "graph.delete_all()"
   ]
  },
  {
   "cell_type": "code",
   "execution_count": 3,
   "metadata": {},
   "outputs": [],
   "source": [
    "from py2neo import Node\n",
    "\n",
    "steve = Node(\"Person\", name=\"Steve\", role=\"Advisor\", location=\"DHS\")\n",
    "farrokh = Node(\"Person\", name=\"Farrokh\", role=\"Advisor\", location=\"JPL\")\n",
    "sean = Node(\"Person\", name=\"Sean\", role=\"Advisor\", location=\"BYU\")\n",
    "ryan = Node(\"Person\", name=\"Ryan\", role=\"Advisor\", location=\"HSI\")\n",
    "farhana = Node(\"Person\", name=\"Farhana\", role=\"Student\", location=\"University of Maryland\")\n",
    "\n",
    "dark_math = Node(\"Publication\", name=\"Dark Math\", publisher=\"MIT\")\n",
    "patterns_pi = Node(\"Publication\", name=\"Patterns in Pi\", publisher=\"SIAM\")\n",
    "\n",
    "graph.create(steve | farrokh | sean | ryan | farhana | dark_math | patterns_pi)"
   ]
  },
  {
   "cell_type": "code",
   "execution_count": 4,
   "metadata": {},
   "outputs": [],
   "source": [
    "from py2neo import Relationship\n",
    "\n",
    "graph.create(Relationship(steve, \"WORKS_FOR\", farrokh))\n",
    "graph.create(Relationship(ryan, \"WORKS_FOR\", sean))\n",
    "graph.create(Relationship(steve, \"AMAZED_BY\", farhana))\n",
    "graph.create(Relationship(farrokh, \"INTRIGUED_BY\", farhana))\n",
    "graph.create(Relationship(sean, \"WONDER-STRUCK_BY\", farhana))\n",
    "graph.create(Relationship(ryan, \"IMPRESSED_BY\", farhana))\n",
    "graph.create(Relationship(farhana, \"AUTHORED\", dark_math))\n",
    "graph.create(Relationship(farhana, \"AUTHORED\", patterns_pi))"
   ]
  },
  {
   "cell_type": "code",
   "execution_count": 5,
   "metadata": {},
   "outputs": [
    {
     "data": {
      "application/javascript": "var link = document.createElement(\"link\");\n\tlink.rel = \"stylesheet\";\n\tlink.type = \"text/css\";\n\tlink.href = \"https://cdnjs.cloudflare.com/ajax/libs/vis/4.8.2/vis.css\";\n\tdocument.head.appendChild(link);\nrequire.config({     paths: {         vis: '//cdnjs.cloudflare.com/ajax/libs/vis/4.8.2/vis.min'     } }); require(['vis'], function(vis) {  window.vis = vis; }); ",
      "text/plain": [
       "<IPython.core.display.Javascript object>"
      ]
     },
     "metadata": {},
     "output_type": "display_data"
    },
    {
     "data": {
      "text/html": [
       "<div id=\"244104c9-ed77-4e2c-a96e-0d7bd2dced1d\" style=\"height: 400px;\"></div>\n",
       "\n",
       "<script type=\"text/javascript\">\n",
       "\n",
       "    var nodes = [{\"id\": 6, \"label\": \"Farhana\", \"group\": \"Person\", \"title\": \"Node('Person', location='University of Maryland', name='Farhana', role='Student')\"}, {\"id\": 9, \"label\": \"Patterns in Pi\", \"group\": \"Publication\", \"title\": \"Node('Publication', name='Patterns in Pi', publisher='SIAM')\"}, {\"id\": 8, \"label\": \"Dark Math\", \"group\": \"Publication\", \"title\": \"Node('Publication', name='Dark Math', publisher='MIT')\"}, {\"id\": 5, \"label\": \"Sean\", \"group\": \"Person\", \"title\": \"Node('Person', location='BYU', name='Sean', role='Advisor')\"}, {\"id\": 14, \"label\": \"Steve\", \"group\": \"Person\", \"title\": \"Node('Person', location='DHS', name='Steve', role='Advisor')\"}, {\"id\": 7, \"label\": \"Farrokh\", \"group\": \"Person\", \"title\": \"Node('Person', location='JPL', name='Farrokh', role='Advisor')\"}, {\"id\": 15, \"label\": \"Ryan\", \"group\": \"Person\", \"title\": \"Node('Person', location='HSI', name='Ryan', role='Advisor')\"}];\n",
       "    var edges = [{\"from\": 6, \"to\": 9, \"label\": \"AUTHORED\"}, {\"from\": 6, \"to\": 8, \"label\": \"AUTHORED\"}, {\"from\": 5, \"to\": 6, \"label\": \"WONDER-STRUCK_BY\"}, {\"from\": 14, \"to\": 6, \"label\": \"AMAZED_BY\"}, {\"from\": 14, \"to\": 7, \"label\": \"WORKS_FOR\"}, {\"from\": 15, \"to\": 6, \"label\": \"IMPRESSED_BY\"}, {\"from\": 15, \"to\": 5, \"label\": \"WORKS_FOR\"}, {\"from\": 7, \"to\": 6, \"label\": \"INTRIGUED_BY\"}];\n",
       "\n",
       "    var container = document.getElementById(\"244104c9-ed77-4e2c-a96e-0d7bd2dced1d\");\n",
       "\n",
       "    var data = {\n",
       "        nodes: nodes,\n",
       "        edges: edges\n",
       "    };\n",
       "\n",
       "    var options = {\n",
       "    nodes: {\n",
       "        shape: 'dot',\n",
       "        size: 25,\n",
       "        font: {\n",
       "            size: 14\n",
       "        }\n",
       "    },\n",
       "    edges: {\n",
       "        font: {\n",
       "            size: 14,\n",
       "            align: 'middle'\n",
       "        },\n",
       "        color: 'gray',\n",
       "        arrows: {\n",
       "            to: {\n",
       "                enabled: true,\n",
       "                scaleFactor: 0.5\n",
       "            }\n",
       "        },\n",
       "        smooth: {\n",
       "            enabled: false\n",
       "        }\n",
       "    },\n",
       "    physics: {\n",
       "        enabled: true\n",
       "        }\n",
       "    };\n",
       "\n",
       "    var network = new vis.Network(container, data, options);\n",
       "\n",
       "</script>\n"
      ],
      "text/plain": [
       "<IPython.core.display.HTML object>"
      ]
     },
     "execution_count": 5,
     "metadata": {},
     "output_type": "execute_result"
    }
   ],
   "source": [
    "import neo4jupyter\n",
    "neo4jupyter.init_notebook_mode()\n",
    "\n",
    "options = {\"Person\": \"name\", \"Publication\": \"name\"}\n",
    "neo4jupyter.draw(graph, options)"
   ]
  },
  {
   "cell_type": "code",
   "execution_count": 6,
   "metadata": {},
   "outputs": [
    {
     "name": "stdout",
     "output_type": "stream",
     "text": [
      "'Farhana'\t'Dark Math'\n",
      "'Farhana'\t'Patterns in Pi'\n"
     ]
    }
   ],
   "source": [
    "query1 = \"\"\"\n",
    "    MATCH (person:Person)-[:AUTHORED]->(publication:Publication)\n",
    "    RETURN person.name AS name, publication.name AS pub\n",
    "\"\"\"\n",
    "\n",
    "data = graph.run(query1)\n",
    "\n",
    "for d in data:\n",
    "    print(d)"
   ]
  },
  {
   "cell_type": "code",
   "execution_count": 7,
   "metadata": {},
   "outputs": [
    {
     "name": "stdout",
     "output_type": "stream",
     "text": [
      "'Steve'\t'Farhana'\n"
     ]
    }
   ],
   "source": [
    "query2 = \"\"\"\n",
    "    MATCH (person1:Person)-[:AMAZED_BY]->(person2:Person)\n",
    "    RETURN person1.name AS name1, person2.name AS name2\n",
    "\"\"\"\n",
    "\n",
    "data = graph.run(query2)\n",
    "\n",
    "for d in data:\n",
    "    print(d)"
   ]
  }
 ],
 "metadata": {
  "kernelspec": {
   "display_name": "Python 3.8.7 ('.venv': venv)",
   "language": "python",
   "name": "python3"
  },
  "language_info": {
   "codemirror_mode": {
    "name": "ipython",
    "version": 3
   },
   "file_extension": ".py",
   "mimetype": "text/x-python",
   "name": "python",
   "nbconvert_exporter": "python",
   "pygments_lexer": "ipython3",
   "version": "3.8.7"
  },
  "orig_nbformat": 4,
  "vscode": {
   "interpreter": {
    "hash": "3f1828ea2306c68d8a2f4ed9b938400e7a5a340b4235074cd9da5a3b6f80c529"
   }
  }
 },
 "nbformat": 4,
 "nbformat_minor": 2
}
